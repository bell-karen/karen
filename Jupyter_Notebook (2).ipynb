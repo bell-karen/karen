{
  "metadata": {
    "kernelspec": {
      "name": "python",
      "display_name": "Pyolite",
      "language": "python"
    },
    "language_info": {
      "codemirror_mode": {
        "name": "python",
        "version": 3
      },
      "file_extension": ".py",
      "mimetype": "text/x-python",
      "name": "python",
      "nbconvert_exporter": "python",
      "pygments_lexer": "ipython3",
      "version": "3.8"
    }
  },
  "nbformat_minor": 4,
  "nbformat": 4,
  "cells": [
    {
      "cell_type": "markdown",
      "source": "<center>\n    <img src=\"https://s3-api.us-geo.objectstorage.softlayer.net/cf-courses-data/CognitiveClass/Logos/organization_logo/organization_logo.png\" width=\"300\" alt=\"cognitiveclass.ai logo\"  />\n</center>\n",
      "metadata": {}
    },
    {
      "cell_type": "markdown",
      "source": "#### Add your code below following the instructions given in the course\n",
      "metadata": {}
    },
    {
      "cell_type": "markdown",
      "source": "# MY JUPYTER NOTEBOOK ON IBM STUDIO\n",
      "metadata": {}
    },
    {
      "cell_type": "markdown",
      "source": "\n\n<B> MY NAME IS NAKIMERA KAREN\n    MY DESIRED OCCUPATION IS BEING A DATA SCIENTIST\n    \n    \n\n\n\n\n\n\n",
      "metadata": {}
    },
    {
      "cell_type": "markdown",
      "source": "I AM INTERESTED IN BEING A DATA SCIENTIST BECAUSE I WANT TO BE ABLE TO COMMUNICATE DATA WITH OTHER COMPANIES.\nI AM IINTERSTED IN BEING A DATA SCIENTIST BECAUSE IT IS A HIGH PAYING JOB.",
      "metadata": {}
    },
    {
      "cell_type": "code",
      "source": " 1+1",
      "metadata": {
        "trusted": true
      },
      "execution_count": 2,
      "outputs": [
        {
          "execution_count": 2,
          "output_type": "execute_result",
          "data": {
            "text/plain": "2"
          },
          "metadata": {}
        }
      ]
    },
    {
      "cell_type": "markdown",
      "source": "* PROGRAMMING LAGUAGES\n *PYTHON                             \n                                     \n *SQL\n1 PYTHON\n2 R STUDIO\n_",
      "metadata": {}
    },
    {
      "cell_type": "markdown",
      "source": "",
      "metadata": {}
    },
    {
      "cell_type": "code",
      "source": "",
      "metadata": {},
      "execution_count": null,
      "outputs": []
    }
  ]
}